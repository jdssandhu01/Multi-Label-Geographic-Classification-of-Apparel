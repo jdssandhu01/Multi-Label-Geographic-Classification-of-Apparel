{
  "nbformat": 4,
  "nbformat_minor": 0,
  "metadata": {
    "colab": {
      "name": "multi_label_classification_attribute",
      "provenance": [],
      "collapsed_sections": []
    },
    "kernelspec": {
      "name": "python3",
      "display_name": "Python 3"
    },
    "accelerator": "TPU"
  },
  "cells": [
    {
      "cell_type": "code",
      "metadata": {
        "id": "pt4ExVF3IJgO",
        "colab_type": "code",
        "outputId": "8734d221-da20-40a3-d88a-7f2b9e0d373c",
        "colab": {
          "base_uri": "https://localhost:8080/",
          "height": 401
        }
      },
      "source": [
        "!apt-get install -y -qq software-properties-common python-software-properties module-init-tools\n",
        "!add-apt-repository -y ppa:alessandro-strada/ppa 2>&1 > /dev/null\n",
        "!apt-get update -qq 2>&1 > /dev/null\n",
        "!apt-get -y install -qq google-drive-ocamlfuse fuse\n",
        "from google.colab import auth\n",
        "auth.authenticate_user()\n",
        "from oauth2client.client import GoogleCredentials\n",
        "creds = GoogleCredentials.get_application_default()\n",
        "import getpass\n",
        "!google-drive-ocamlfuse -headless -id={creds.client_id} -secret={creds.client_secret} < /dev/null 2>&1 | grep URL\n",
        "vcode = getpass.getpass()\n",
        "!echo {vcode} | google-drive-ocamlfuse -headless -id={creds.client_id} -secret={creds.client_secret}"
      ],
      "execution_count": 0,
      "outputs": [
        {
          "output_type": "stream",
          "text": [
            "E: Package 'python-software-properties' has no installation candidate\n",
            "Selecting previously unselected package google-drive-ocamlfuse.\n",
            "(Reading database ... 131183 files and directories currently installed.)\n",
            "Preparing to unpack .../google-drive-ocamlfuse_0.7.6-0ubuntu1~ubuntu18.04.1_amd64.deb ...\n",
            "Unpacking google-drive-ocamlfuse (0.7.6-0ubuntu1~ubuntu18.04.1) ...\n",
            "Setting up google-drive-ocamlfuse (0.7.6-0ubuntu1~ubuntu18.04.1) ...\n",
            "Processing triggers for man-db (2.8.3-2ubuntu0.1) ...\n"
          ],
          "name": "stdout"
        },
        {
          "output_type": "stream",
          "text": [
            "WARNING: Logging before flag parsing goes to stderr.\n",
            "W0905 16:04:09.149654 139983226124160 lazy_loader.py:50] \n",
            "The TensorFlow contrib module will not be included in TensorFlow 2.0.\n",
            "For more information, please see:\n",
            "  * https://github.com/tensorflow/community/blob/master/rfcs/20180907-contrib-sunset.md\n",
            "  * https://github.com/tensorflow/addons\n",
            "  * https://github.com/tensorflow/io (for I/O related ops)\n",
            "If you depend on functionality not listed there, please file an issue.\n",
            "\n"
          ],
          "name": "stderr"
        },
        {
          "output_type": "stream",
          "text": [
            "Please, open the following URL in a web browser: https://accounts.google.com/o/oauth2/auth?client_id=32555940559.apps.googleusercontent.com&redirect_uri=urn%3Aietf%3Awg%3Aoauth%3A2.0%3Aoob&scope=https%3A%2F%2Fwww.googleapis.com%2Fauth%2Fdrive&response_type=code&access_type=offline&approval_prompt=force\n",
            "··········\n",
            "Please, open the following URL in a web browser: https://accounts.google.com/o/oauth2/auth?client_id=32555940559.apps.googleusercontent.com&redirect_uri=urn%3Aietf%3Awg%3Aoauth%3A2.0%3Aoob&scope=https%3A%2F%2Fwww.googleapis.com%2Fauth%2Fdrive&response_type=code&access_type=offline&approval_prompt=force\n",
            "Please enter the verification code: Access token retrieved correctly.\n"
          ],
          "name": "stdout"
        }
      ]
    },
    {
      "cell_type": "code",
      "metadata": {
        "id": "FghBi5jSLg2R",
        "colab_type": "code",
        "outputId": "e58dd5b1-106a-42fc-8966-0c28fa3d7002",
        "colab": {
          "base_uri": "https://localhost:8080/",
          "height": 254
        }
      },
      "source": [
        "# Setting up the directory working folder\n",
        "!mkdir drive\n",
        "!google-drive-ocamlfuse drive\n",
        "!ls 'drive/Colab Notebooks'"
      ],
      "execution_count": 0,
      "outputs": [
        {
          "output_type": "stream",
          "text": [
            " data\n",
            "'Generating_trending_outfits_using_GANs (9e700c24).ipynb'\n",
            " Generating_trending_outfits_using_GANs.ipynb\n",
            " image_samples\n",
            " multi_label_classification\n",
            " multi_label_classification_attribute\n",
            " result\n",
            " results.csv\n",
            " results_custom.csv\n",
            " tflib\n",
            "'Transfer GANs.ipynb'\n",
            " transfer_model\n",
            " Untitled0.ipynb\n"
          ],
          "name": "stdout"
        }
      ]
    },
    {
      "cell_type": "code",
      "metadata": {
        "id": "mhk8fdbVMP07",
        "colab_type": "code",
        "outputId": "1c7c5cd8-484b-4a2c-9b61-a906ccff3d08",
        "colab": {
          "base_uri": "https://localhost:8080/",
          "height": 35
        }
      },
      "source": [
        "import os\n",
        "os.chdir('drive/Colab Notebooks')\n",
        "os.getcwd()"
      ],
      "execution_count": 0,
      "outputs": [
        {
          "output_type": "execute_result",
          "data": {
            "text/plain": [
              "'/content/drive/Colab Notebooks'"
            ]
          },
          "metadata": {
            "tags": []
          },
          "execution_count": 3
        }
      ]
    },
    {
      "cell_type": "code",
      "metadata": {
        "id": "S0_s1HRHNjwV",
        "colab_type": "code",
        "outputId": "e11d12b6-42d1-4825-830f-162a90e33ef5",
        "colab": {
          "base_uri": "https://localhost:8080/",
          "height": 35
        }
      },
      "source": [
        "from keras.models import Sequential\n",
        "from keras.preprocessing.image import ImageDataGenerator\n",
        "from keras.layers import Flatten, Dense, Activation, Dropout\n",
        "from keras.layers.normalization import BatchNormalization\n",
        "from keras.layers import MaxPooling2D, Conv2D\n",
        "from keras import regularizers, optimizers\n",
        "import pandas as pd\n",
        "import numpy as np"
      ],
      "execution_count": 0,
      "outputs": [
        {
          "output_type": "stream",
          "text": [
            "Using TensorFlow backend.\n"
          ],
          "name": "stderr"
        }
      ]
    },
    {
      "cell_type": "code",
      "metadata": {
        "id": "QE_j6EamQFrA",
        "colab_type": "code",
        "outputId": "421c948b-a3a7-444e-c027-04d1ce1ae091",
        "colab": {
          "base_uri": "https://localhost:8080/",
          "height": 72
        }
      },
      "source": [
        "df = pd.read_csv('multi_label_classification/labels.csv')\n",
        "\n",
        "columns = ['Blue', 'Black', 'Red', 'White', 'Yellow', 'Green', 'Designer', 'Kurta', 'Saree', 'Men', 'Women']\n",
        "\n",
        "datagen=ImageDataGenerator(rescale=1./255.)\n",
        "test_datagen=ImageDataGenerator(rescale=1./255.)\n",
        "\n",
        "train_generator = datagen.flow_from_dataframe(\n",
        "    dataframe=df[:1800],\n",
        "    directory=\"multi_label_classification/images\",\n",
        "    x_col=\"File\",\n",
        "    y_col=columns,\n",
        "    batch_size=32,\n",
        "    seed=42,\n",
        "    shuffle=True,\n",
        "    class_mode=\"other\",\n",
        "    target_size=(256,256))\n",
        "\n",
        "valid_generator=test_datagen.flow_from_dataframe(\n",
        "    dataframe=df[1800:1900],\n",
        "    directory=\"multi_label_classification/images\",\n",
        "    x_col=\"File\",\n",
        "    y_col=columns,\n",
        "    batch_size=32,\n",
        "    seed=42,\n",
        "    shuffle=True,\n",
        "    class_mode=\"other\",\n",
        "    target_size=(256,256))\n",
        "\n",
        "test_generator = datagen.flow_from_dataframe(\n",
        "    dataframe=df[1900:],\n",
        "    directory=\"multi_label_classification/images\",\n",
        "    x_col=\"File\",\n",
        "    batch_size=1,\n",
        "    seed=42,\n",
        "    shuffle=False,\n",
        "    class_mode=None,\n",
        "    target_size=(256,256))"
      ],
      "execution_count": 0,
      "outputs": [
        {
          "output_type": "stream",
          "text": [
            "Found 1800 validated image filenames.\n",
            "Found 100 validated image filenames.\n",
            "Found 166 validated image filenames.\n"
          ],
          "name": "stdout"
        }
      ]
    },
    {
      "cell_type": "markdown",
      "metadata": {
        "id": "cQBfB1HhPIg6",
        "colab_type": "text"
      },
      "source": [
        "**Preparing Our Custom Model**"
      ]
    },
    {
      "cell_type": "code",
      "metadata": {
        "id": "ckoWmR9OZDbw",
        "colab_type": "code",
        "outputId": "77e9f552-458d-46ca-e71e-2aaabeeea2e8",
        "colab": {
          "base_uri": "https://localhost:8080/",
          "height": 274
        }
      },
      "source": [
        "model = Sequential()\n",
        "model.add(Conv2D(32, (3, 3), padding='same',\n",
        "                 input_shape=(256,256,3)))\n",
        "model.add(Activation('relu'))\n",
        "\n",
        "model.add(Conv2D(32, (3, 3)))\n",
        "model.add(Activation('relu'))\n",
        "model.add(MaxPooling2D(pool_size=(2, 2)))\n",
        "model.add(Dropout(0.25))\n",
        "\n",
        "model.add(Conv2D(64, (3, 3), padding='same'))\n",
        "model.add(Activation('relu'))\n",
        "\n",
        "model.add(Conv2D(64, (3, 3)))\n",
        "model.add(Activation('relu'))\n",
        "model.add(MaxPooling2D(pool_size=(2, 2)))\n",
        "model.add(Dropout(0.25))\n",
        "\n",
        "model.add(Flatten())\n",
        "model.add(Dense(512))\n",
        "model.add(Activation('relu'))\n",
        "model.add(Dropout(0.5))\n",
        "model.add(Dense(11, activation='sigmoid'))"
      ],
      "execution_count": 0,
      "outputs": [
        {
          "output_type": "stream",
          "text": [
            "W0904 15:26:57.824788 139759681369984 deprecation_wrapper.py:119] From /usr/local/lib/python3.6/dist-packages/keras/backend/tensorflow_backend.py:66: The name tf.get_default_graph is deprecated. Please use tf.compat.v1.get_default_graph instead.\n",
            "\n",
            "W0904 15:26:57.827947 139759681369984 deprecation_wrapper.py:119] From /usr/local/lib/python3.6/dist-packages/keras/backend/tensorflow_backend.py:541: The name tf.placeholder is deprecated. Please use tf.compat.v1.placeholder instead.\n",
            "\n",
            "W0904 15:26:57.833178 139759681369984 deprecation_wrapper.py:119] From /usr/local/lib/python3.6/dist-packages/keras/backend/tensorflow_backend.py:4432: The name tf.random_uniform is deprecated. Please use tf.random.uniform instead.\n",
            "\n",
            "W0904 15:26:57.888971 139759681369984 deprecation_wrapper.py:119] From /usr/local/lib/python3.6/dist-packages/keras/backend/tensorflow_backend.py:4267: The name tf.nn.max_pool is deprecated. Please use tf.nn.max_pool2d instead.\n",
            "\n",
            "W0904 15:26:57.891765 139759681369984 deprecation_wrapper.py:119] From /usr/local/lib/python3.6/dist-packages/keras/backend/tensorflow_backend.py:148: The name tf.placeholder_with_default is deprecated. Please use tf.compat.v1.placeholder_with_default instead.\n",
            "\n",
            "W0904 15:26:57.901983 139759681369984 deprecation.py:506] From /usr/local/lib/python3.6/dist-packages/keras/backend/tensorflow_backend.py:3733: calling dropout (from tensorflow.python.ops.nn_ops) with keep_prob is deprecated and will be removed in a future version.\n",
            "Instructions for updating:\n",
            "Please use `rate` instead of `keep_prob`. Rate should be set to `rate = 1 - keep_prob`.\n"
          ],
          "name": "stderr"
        }
      ]
    },
    {
      "cell_type": "code",
      "metadata": {
        "id": "xVjjpoz3N-4-",
        "colab_type": "code",
        "outputId": "336f9c98-86e0-4f96-988d-384841e34268",
        "colab": {
          "base_uri": "https://localhost:8080/",
          "height": 165
        }
      },
      "source": [
        "from keras.optimizers import adam\n",
        "# Set Optimizer\n",
        "opt = adam(lr=0.001, decay=1e-6)\n",
        "\n",
        "# Compile model\n",
        "model.compile(\n",
        "    loss='binary_crossentropy',\n",
        "    optimizer=opt,\n",
        "    metrics=['accuracy']\n",
        ")"
      ],
      "execution_count": 0,
      "outputs": [
        {
          "output_type": "stream",
          "text": [
            "W0904 15:26:59.667610 139759681369984 deprecation_wrapper.py:119] From /usr/local/lib/python3.6/dist-packages/keras/optimizers.py:793: The name tf.train.Optimizer is deprecated. Please use tf.compat.v1.train.Optimizer instead.\n",
            "\n",
            "W0904 15:26:59.674744 139759681369984 deprecation_wrapper.py:119] From /usr/local/lib/python3.6/dist-packages/keras/backend/tensorflow_backend.py:3657: The name tf.log is deprecated. Please use tf.math.log instead.\n",
            "\n",
            "W0904 15:26:59.680372 139759681369984 deprecation.py:323] From /usr/local/lib/python3.6/dist-packages/tensorflow/python/ops/nn_impl.py:180: add_dispatch_support.<locals>.wrapper (from tensorflow.python.ops.array_ops) is deprecated and will be removed in a future version.\n",
            "Instructions for updating:\n",
            "Use tf.where in 2.0, which has the same broadcast rule as np.where\n"
          ],
          "name": "stderr"
        }
      ]
    },
    {
      "cell_type": "code",
      "metadata": {
        "id": "os0d_bVNO6VH",
        "colab_type": "code",
        "colab": {}
      },
      "source": [
        "\n",
        "# For creating model checkpoint\n",
        "from keras.callbacks import ModelCheckpoint\n",
        "filepath = 'multi_label_classification/checkpoint/'\n",
        "checkpoint = ModelCheckpoint(filepath, monitor=['val_acc'], verbose=1, mode='max')\n",
        "callbacks = [checkpoint]"
      ],
      "execution_count": 0,
      "outputs": []
    },
    {
      "cell_type": "code",
      "metadata": {
        "id": "xfHsp4VEPEuV",
        "colab_type": "code",
        "outputId": "8704cdd5-b7a7-4b8c-c1cd-ed1e24870e1d",
        "colab": {
          "base_uri": "https://localhost:8080/",
          "height": 381
        }
      },
      "source": [
        "STEP_SIZE_TRAIN=train_generator.n//train_generator.batch_size\n",
        "STEP_SIZE_VALID=valid_generator.n//valid_generator.batch_size\n",
        "STEP_SIZE_TEST=test_generator.n//test_generator.batch_size\n",
        "\n",
        "history = model.fit_generator(generator=train_generator,\n",
        "                    steps_per_epoch=STEP_SIZE_TRAIN,\n",
        "                    validation_data=valid_generator,\n",
        "                    validation_steps=STEP_SIZE_VALID,\n",
        "                    epochs=10\n",
        ")\n"
      ],
      "execution_count": 0,
      "outputs": [
        {
          "output_type": "stream",
          "text": [
            "Epoch 1/10\n",
            "56/56 [==============================] - 1077s 19s/step - loss: 0.5340 - acc: 0.7998 - val_loss: 0.2960 - val_acc: 0.8722\n",
            "Epoch 2/10\n",
            "56/56 [==============================] - 611s 11s/step - loss: 0.2277 - acc: 0.9053 - val_loss: 0.2245 - val_acc: 0.8997\n",
            "Epoch 3/10\n",
            "56/56 [==============================] - 623s 11s/step - loss: 0.1459 - acc: 0.9408 - val_loss: 0.1024 - val_acc: 0.9612\n",
            "Epoch 4/10\n",
            "56/56 [==============================] - 636s 11s/step - loss: 0.1044 - acc: 0.9617 - val_loss: 0.0974 - val_acc: 0.9679\n",
            "Epoch 5/10\n",
            "56/56 [==============================] - 636s 11s/step - loss: 0.0798 - acc: 0.9699 - val_loss: 0.1527 - val_acc: 0.9413\n",
            "Epoch 6/10\n",
            "56/56 [==============================] - 615s 11s/step - loss: 0.0615 - acc: 0.9783 - val_loss: 0.1953 - val_acc: 0.9372\n",
            "Epoch 7/10\n",
            "56/56 [==============================] - 614s 11s/step - loss: 0.0541 - acc: 0.9803 - val_loss: 0.0814 - val_acc: 0.9599\n",
            "Epoch 8/10\n",
            "56/56 [==============================] - 654s 12s/step - loss: 0.0394 - acc: 0.9865 - val_loss: 0.0587 - val_acc: 0.9866\n",
            "Epoch 9/10\n",
            "56/56 [==============================] - 656s 12s/step - loss: 0.0367 - acc: 0.9862 - val_loss: 0.1016 - val_acc: 0.9574\n",
            "Epoch 10/10\n",
            "56/56 [==============================] - 655s 12s/step - loss: 0.0305 - acc: 0.9893 - val_loss: 0.0660 - val_acc: 0.9853\n"
          ],
          "name": "stdout"
        }
      ]
    },
    {
      "cell_type": "code",
      "metadata": {
        "id": "WlEr72gb8O30",
        "colab_type": "code",
        "colab": {}
      },
      "source": [
        "import matplotlib.pyplot as plt"
      ],
      "execution_count": 0,
      "outputs": []
    },
    {
      "cell_type": "code",
      "metadata": {
        "id": "_UdOr04iQspc",
        "colab_type": "code",
        "outputId": "5bf0d576-e17c-4e2b-b208-332a0925489d",
        "colab": {
          "base_uri": "https://localhost:8080/",
          "height": 592
        }
      },
      "source": [
        "\n",
        "# Plot the training and validation loss + accuracy\n",
        "def plot_training(history):\n",
        "  # summarize history for accuracy\n",
        "  plt.plot(history.history['acc'])\n",
        "  plt.plot(history.history['val_acc'])\n",
        "  plt.title('model accuracy')\n",
        "  plt.ylabel('accuracy')\n",
        "  plt.xlabel('epoch')\n",
        "  plt.legend(['train', 'val'], loc='upper left')\n",
        "  plt.show()\n",
        "  \n",
        "  # summarize history for loss\n",
        "  plt.plot(history.history['loss'])\n",
        "  plt.plot(history.history['val_loss'])\n",
        "  plt.title('model loss')\n",
        "  plt.ylabel('loss')\n",
        "  plt.xlabel('epoch')\n",
        "  plt.legend(['train', 'val'], loc='upper left')\n",
        "  plt.show()\n",
        "  plt.savefig('multi_label_classification/acc_vs_epochs.png')\n",
        "\n",
        "plot_training(history)"
      ],
      "execution_count": 0,
      "outputs": [
        {
          "output_type": "display_data",
          "data": {
            "image/png": "[encoded data removed]",
            "text/plain": [
              "<Figure size 432x288 with 1 Axes>"
            ]
          },
          "metadata": {
            "tags": []
          }
        },
        {
          "output_type": "display_data",
          "data": {
            "image/png": "[encoded data removed]",
            "text/plain": [
              "<Figure size 432x288 with 1 Axes>"
            ]
          },
          "metadata": {
            "tags": []
          }
        },
        {
          "output_type": "display_data",
          "data": {
            "text/plain": [
              "<Figure size 432x288 with 0 Axes>"
            ]
          },
          "metadata": {
            "tags": []
          }
        }
      ]
    },
    {
      "cell_type": "code",
      "metadata": {
        "id": "S7sYFf-1Pl3G",
        "colab_type": "code",
        "outputId": "5101e80c-e3c5-459f-fcfd-2a040c02a676",
        "colab": {
          "base_uri": "https://localhost:8080/",
          "height": 35
        }
      },
      "source": [
        "test_generator.reset()\n",
        "\n",
        "pred=model.predict_generator(test_generator,\n",
        "steps=STEP_SIZE_TEST,\n",
        "verbose=1)\n",
        "\n",
        "pred_bool = (pred > 0.5)\n",
        "predictions = pred_bool.astype(int)\n",
        "columns=['Blue', 'Black', 'Red', 'White', 'Yellow', 'Green', 'Designer', 'Kurta', 'Saree', 'Men', 'Women']\n",
        "#columns should be the same order of y_col\n",
        "\n",
        "results=pd.DataFrame(predictions, columns=columns)\n",
        "results[\"File\"]=test_generator.filenames\n",
        "ordered_cols=[\"File\"]+columns\n",
        "results=results[ordered_cols]#To get the same column order\n",
        "\n",
        "results.to_csv(\"results_custom.csv\",index=False)"
      ],
      "execution_count": 0,
      "outputs": [
        {
          "output_type": "stream",
          "text": [
            "166/166 [==============================] - 99s 594ms/step\n"
          ],
          "name": "stdout"
        }
      ]
    },
    {
      "cell_type": "markdown",
      "metadata": {
        "id": "jKZVfTSUPUZt",
        "colab_type": "text"
      },
      "source": [
        "**Preparing our pretrained model**"
      ]
    },
    {
      "cell_type": "code",
      "metadata": {
        "id": "-g0X1ywhAA5z",
        "colab_type": "code",
        "colab": {}
      },
      "source": [
        "from keras.optimizers import adam, rmsprop\n",
        "# For creating model checkpoint\n",
        "from keras.callbacks import ModelCheckpoint\n"
      ],
      "execution_count": 0,
      "outputs": []
    },
    {
      "cell_type": "code",
      "metadata": {
        "id": "RoKExR77GGsx",
        "colab_type": "code",
        "colab": {}
      },
      "source": [
        "def model(base_model):\n",
        "  class_list = ['Blue', 'Black', 'Red', 'White', 'Yellow', 'Green', 'Designer', 'Kurta', 'Saree', 'Men', 'Women']\n",
        "  \n",
        "  def build_finetune_model(base_model, dropout, fc_layers, num_classes):\n",
        "    for layer in base_model.layers:\n",
        "      layer.trainable = False\n",
        "    \n",
        "    x = base_model.output\n",
        "    x = Flatten()(x)\n",
        "    for fc in fc_layers:\n",
        "      x = Dense(fc, activation='relu')(x)\n",
        "      x = Dropout(dropout)(x)\n",
        "      \n",
        "    # new softmax layer\n",
        "    predictions = Dense(num_classes, activation='sigmoid')(x)\n",
        "    \n",
        "    finetune_model = Model(inputs=base_model.input, outputs=predictions)\n",
        "    return finetune_model\n",
        "  \n",
        "  FC_LAYERS = [1024,1024]\n",
        "  dropout = 0.5\n",
        "  finetune_model = build_finetune_model(base_model, dropout=dropout,fc_layers=FC_LAYERS,num_classes=len(class_list))\n",
        "  # Set Optimizer\n",
        "  opt = .rmsprop(lr=0.0001, decay=1e-6)\n",
        "\n",
        "  # Compile model\n",
        "  finetune_model.compile(\n",
        "      loss='binary_crossentropy',\n",
        "      optimizer=opt,\n",
        "      metrics=['accuracy']\n",
        "  )\n",
        "  filepath = 'multi_label_classification/checkpoint/'\n",
        "  checkpoint = ModelCheckpoint(filepath, monitor=['val_acc'], verbose=1, mode='max')\n",
        "  callbacks = [checkpoint]\n",
        "  \n",
        "  STEP_SIZE_TRAIN=train_generator.n//train_generator.batch_size\n",
        "  STEP_SIZE_VALID=valid_generator.n//valid_generator.batch_size\n",
        "  STEP_SIZE_TEST=test_generator.n//test_generator.batch_size\n",
        "\n",
        "  history = finetune_model.fit_generator(generator=train_generator,\n",
        "                      steps_per_epoch=STEP_SIZE_TRAIN,\n",
        "                      validation_data=valid_generator,\n",
        "                      validation_steps=STEP_SIZE_VALID,\n",
        "                      epochs=10\n",
        "  )\n",
        "  # Plot the training and validation loss + accuracy\n",
        "  def plot_training(history):\n",
        "    # summarize history for accuracy\n",
        "    plt.plot(history.history['acc'])\n",
        "    plt.plot(history.history['val_acc'])\n",
        "    plt.title('model accuracy')\n",
        "    plt.ylabel('accuracy')\n",
        "    plt.xlabel('epoch')\n",
        "    plt.legend(['train', 'val'], loc='upper left')\n",
        "    plt.show()\n",
        "\n",
        "    # summarize history for loss\n",
        "    plt.plot(history.history['loss'])\n",
        "    plt.plot(history.history['val_loss'])\n",
        "    plt.title('model loss')\n",
        "    plt.ylabel('loss')\n",
        "    plt.xlabel('epoch')\n",
        "    plt.legend(['train', 'val'], loc='upper left')\n",
        "    plt.show()\n",
        "\n",
        "    plt.savefig('multi_label_classification/acc_vs_epochs.png')\n",
        "\n",
        "  plot_training(history)\n",
        "\n",
        "\n",
        " "
      ],
      "execution_count": 0,
      "outputs": []
    },
    {
      "cell_type": "code",
      "metadata": {
        "id": "4f7spJTbAxb_",
        "colab_type": "code",
        "colab": {}
      },
      "source": [
        "from keras.applications.resnet50 import ResNet50, preprocess_input\n",
        "from keras.models import Sequential, Model"
      ],
      "execution_count": 0,
      "outputs": []
    },
    {
      "cell_type": "code",
      "metadata": {
        "id": "vzaYKVAYFnN2",
        "colab_type": "code",
        "colab": {}
      },
      "source": [
        "# Pretrained Model\n",
        "resnet50_model = ResNet50(weights='imagenet', include_top=False, input_shape=(256,256,3))\n",
        "model(resnet50_model)"
      ],
      "execution_count": 0,
      "outputs": []
    },
    {
      "cell_type": "markdown",
      "metadata": {
        "id": "OmRh4_KFePmp",
        "colab_type": "text"
      },
      "source": [
        ""
      ]
    },
    {
      "cell_type": "code",
      "metadata": {
        "id": "61Yj-MH9XSTV",
        "colab_type": "code",
        "colab": {}
      },
      "source": [
        "test_generator.reset()\n",
        "\n",
        "pred=model.predict_generator(test_generator,\n",
        "steps=STEP_SIZE_TEST,\n",
        "verbose=1)\n",
        "\n",
        "pred_bool = (pred > 0.5)\n",
        "predictions = pred_bool.astype(int)\n",
        "columns=['Blue', 'Black', 'Red', 'White', 'Yellow', 'Green', 'Designer', 'Kurta', 'Saree', 'Men', 'Women']\n",
        "#columns should be the same order of y_col\n",
        "\n",
        "results=pd.DataFrame(predictions, columns=columns)\n",
        "results[\"File\"]=test_generator.filenames\n",
        "ordered_cols=[\"File\"]+columns\n",
        "results=results[ordered_cols]#To get the same column order\n",
        "\n",
        "results.to_csv(\"results_pretrained_resnet.csv\",index=False)"
      ],
      "execution_count": 0,
      "outputs": []
    },
    {
      "cell_type": "code",
      "metadata": {
        "id": "GqZe5Hvb5Qjn",
        "colab_type": "code",
        "colab": {}
      },
      "source": [
        "vgg16_model = VGG16(weights='imagenet', \n",
        "                      include_top=False, \n",
        "                      input_shape=(256,256,3))\n",
        "model(vgg16_model)"
      ],
      "execution_count": 0,
      "outputs": []
    },
    {
      "cell_type": "code",
      "metadata": {
        "id": "GC821pbfXWQn",
        "colab_type": "code",
        "colab": {}
      },
      "source": [
        "test_generator.reset()\n",
        "\n",
        "pred=model.predict_generator(test_generator,\n",
        "steps=STEP_SIZE_TEST,\n",
        "verbose=1)\n",
        "\n",
        "pred_bool = (pred > 0.5)\n",
        "predictions = pred_bool.astype(int)\n",
        "columns=['Blue', 'Black', 'Red', 'White', 'Yellow', 'Green', 'Designer', 'Kurta', 'Saree', 'Men', 'Women']\n",
        "#columns should be the same order of y_col\n",
        "\n",
        "results=pd.DataFrame(predictions, columns=columns)\n",
        "results[\"File\"]=test_generator.filenames\n",
        "ordered_cols=[\"File\"]+columns\n",
        "results=results[ordered_cols]#To get the same column order\n",
        "\n",
        "results.to_csv(\"results_pretrained_vgg.csv\",index=False)"
      ],
      "execution_count": 0,
      "outputs": []
    },
    {
      "cell_type": "code",
      "metadata": {
        "id": "u9w0UX04XGLO",
        "colab_type": "code",
        "colab": {}
      },
      "source": [
        "inception_model = InceptionV3(weights='imagenet', \n",
        "                      include_top=False, \n",
        "                      input_shape=(256, 256, 3))\n",
        "model(inception_model)"
      ],
      "execution_count": 0,
      "outputs": []
    },
    {
      "cell_type": "code",
      "metadata": {
        "id": "y0GGAmT9je2w",
        "colab_type": "code",
        "colab": {}
      },
      "source": [
        "test_generator.reset()\n",
        "\n",
        "pred=model.predict_generator(test_generator,\n",
        "steps=STEP_SIZE_TEST,\n",
        "verbose=1)\n",
        "\n",
        "pred_bool = (pred > 0.5)\n",
        "predictions = pred_bool.astype(int)\n",
        "columns=['Blue', 'Black', 'Red', 'White', 'Yellow', 'Green', 'Designer', 'Kurta', 'Saree', 'Men', 'Women']\n",
        "#columns should be the same order of y_col\n",
        "\n",
        "results=pd.DataFrame(predictions, columns=columns)\n",
        "results[\"File\"]=test_generator.filenames\n",
        "ordered_cols=[\"File\"]+columns\n",
        "results=results[ordered_cols]#To get the same column order\n",
        "\n",
        "results.to_csv(\"results_pretrained_inception.csv\",index=False)"
      ],
      "execution_count": 0,
      "outputs": []
    }
  ]
}